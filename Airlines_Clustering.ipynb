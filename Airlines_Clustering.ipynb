{
  "nbformat": 4,
  "nbformat_minor": 0,
  "metadata": {
    "colab": {
      "name": "Airlines Clustering",
      "private_outputs": true,
      "provenance": []
    },
    "kernelspec": {
      "name": "python3",
      "display_name": "Python 3"
    },
    "language_info": {
      "name": "python"
    }
  },
  "cells": [
    {
      "cell_type": "code",
      "source": [
        "# Importing Relevant Library"
      ],
      "metadata": {
        "id": "kZWsR_rlFAE2"
      },
      "execution_count": null,
      "outputs": []
    },
    {
      "cell_type": "code",
      "source": [
        "import numpy as np\n",
        "import pandas as pd\n",
        "import statsmodels.api as sm\n",
        "import matplotlib.pyplot as plt\n",
        "import matplotlib\n",
        "import seaborn as sns\n",
        "sns.set()\n",
        "from sklearn.cluster import KMeans\n",
        "import scipy.cluster.hierarchy as shc"
      ],
      "metadata": {
        "id": "5hZ2laqMEiLw"
      },
      "execution_count": null,
      "outputs": []
    },
    {
      "cell_type": "code",
      "source": [
        "# Loading the data"
      ],
      "metadata": {
        "id": "pDNjs_RwFDcJ"
      },
      "execution_count": null,
      "outputs": []
    },
    {
      "cell_type": "code",
      "source": [
        "data = pd.read_excel('/EastWestAirlines.xlsx', sheet_name='data')\n",
        "data"
      ],
      "metadata": {
        "id": "qfksqMAFFIFZ"
      },
      "execution_count": null,
      "outputs": []
    },
    {
      "cell_type": "code",
      "source": [
        "data.info()"
      ],
      "metadata": {
        "id": "K8YVGHoiFTj2"
      },
      "execution_count": null,
      "outputs": []
    },
    {
      "cell_type": "code",
      "source": [
        "data2=data.drop(['ID#'],axis=1)\n",
        "data2"
      ],
      "metadata": {
        "id": "lICq16GxF7N3"
      },
      "execution_count": null,
      "outputs": []
    },
    {
      "cell_type": "code",
      "source": [
        "# Selecting the feature"
      ],
      "metadata": {
        "id": "AgFVlAM2HXHl"
      },
      "execution_count": null,
      "outputs": []
    },
    {
      "cell_type": "code",
      "source": [
        "from sklearn.preprocessing import normalize\n",
        "data_scaled = normalize(data2)\n",
        "data_scaled = pd.DataFrame(data_scaled, columns=data2.columns)\n",
        "data_scaled.head()"
      ],
      "metadata": {
        "id": "4vnVkAvBJKXu"
      },
      "execution_count": null,
      "outputs": []
    },
    {
      "cell_type": "code",
      "source": [
        "# To find No of Cluster use WCSS and Elbow Method"
      ],
      "metadata": {
        "id": "_YxM-Bs-HmJX"
      },
      "execution_count": null,
      "outputs": []
    },
    {
      "cell_type": "code",
      "source": [
        "wcss=[]\n",
        "for i in range(1,7):\n",
        "  kmeans = KMeans(i)\n",
        "  kmeans.fit(data_scaled)\n",
        "  wcss_iter = kmeans.inertia_\n",
        "  wcss.append(wcss_iter)\n",
        "\n",
        "number_clusters = range(1,7)\n",
        "plt.plot(number_clusters,wcss)\n",
        "plt.title('The Elbow title')\n",
        "plt.xlabel('Number of clusters')\n",
        "plt.ylabel('WCSS')  "
      ],
      "metadata": {
        "id": "Y4pLLlsBHPOR"
      },
      "execution_count": null,
      "outputs": []
    },
    {
      "cell_type": "code",
      "source": [
        "# we can choose 4 as no. of clusters, this method shows what is the good number of clusters."
      ],
      "metadata": {
        "id": "J3hSkTp_I1-Q"
      },
      "execution_count": null,
      "outputs": []
    },
    {
      "cell_type": "code",
      "source": [
        "# Let See Dendogram to find the no of cluster"
      ],
      "metadata": {
        "id": "6vKC33bmIshd"
      },
      "execution_count": null,
      "outputs": []
    },
    {
      "cell_type": "code",
      "source": [
        "import scipy.cluster.hierarchy as shc\n",
        "plt.figure(figsize=(10, 7))  \n",
        "plt.title(\"Dendrograms\")  \n",
        "dend = shc.dendrogram(shc.linkage(data_scaled, method='ward'))"
      ],
      "metadata": {
        "id": "hISewcRlKBzG"
      },
      "execution_count": null,
      "outputs": []
    },
    {
      "cell_type": "code",
      "source": [
        "plt.figure(figsize=(10, 7))  \n",
        "plt.title(\"Dendrograms\")  \n",
        "dend = shc.dendrogram(shc.linkage(data_scaled, method='ward'))\n",
        "plt.axhline(y=6, color='r', linestyle='--')"
      ],
      "metadata": {
        "id": "sB7BR5v1KGEQ"
      },
      "execution_count": null,
      "outputs": []
    },
    {
      "cell_type": "code",
      "source": [
        "# Here also with the help of dendogram we see 4 cluster "
      ],
      "metadata": {
        "id": "muiNs2RgKnPz"
      },
      "execution_count": null,
      "outputs": []
    },
    {
      "cell_type": "code",
      "source": [
        "# 1.K-Means"
      ],
      "metadata": {
        "id": "gPucqFwgLg91"
      },
      "execution_count": null,
      "outputs": []
    },
    {
      "cell_type": "code",
      "source": [
        "from sklearn.cluster import KMeans\n",
        "k_means=KMeans(n_clusters=4,random_state=42)\n",
        "k_means.fit(data_scaled)"
      ],
      "metadata": {
        "id": "Skq2W2dqLZgl"
      },
      "execution_count": null,
      "outputs": []
    },
    {
      "cell_type": "code",
      "source": [
        "identified_clusters = kmeans.fit_predict(data_scaled)\n",
        "identified_clusters"
      ],
      "metadata": {
        "id": "vdAVCs4cMemV"
      },
      "execution_count": null,
      "outputs": []
    },
    {
      "cell_type": "code",
      "source": [
        "y = pd.DataFrame(data=identified_clusters, columns=['clusters'])\n",
        "y"
      ],
      "metadata": {
        "id": "k_2lvdL1Mj7m"
      },
      "execution_count": null,
      "outputs": []
    },
    {
      "cell_type": "code",
      "source": [
        "# Adding clusters to dataset\n",
        "data_scaled['clusters']=identified_clusters\n",
        "data_scaled"
      ],
      "metadata": {
        "id": "4G32LLunRqZw"
      },
      "execution_count": null,
      "outputs": []
    },
    {
      "cell_type": "code",
      "source": [
        "# Plotting resulting clusters\n",
        "data_scaled['KMeans_labels']=k_means.labels_\n",
        "\n",
        "colors=['purple','red','blue','green']\n",
        "plt.figure(figsize=(10,10))\n",
        "plt.scatter(data_scaled['Balance'],data_scaled['clusters'],c=data_scaled['KMeans_labels'],cmap=matplotlib.colors.ListedColormap(colors),s=15)\n",
        "plt.title('K-Means Clustering',fontsize=20)\n",
        "plt.xlabel('Feature 1',fontsize=14)\n",
        "plt.ylabel('Feature 2',fontsize=14)\n",
        "plt.show()"
      ],
      "metadata": {
        "id": "irbVlJMYSX6K"
      },
      "execution_count": null,
      "outputs": []
    },
    {
      "cell_type": "code",
      "source": [
        "# 2. Hierachial Clustering"
      ],
      "metadata": {
        "id": "v9RpdRxBUWe8"
      },
      "execution_count": null,
      "outputs": []
    },
    {
      "cell_type": "code",
      "source": [
        "from sklearn.cluster import AgglomerativeClustering\n",
        "model = AgglomerativeClustering(n_clusters=4, affinity='euclidean')\n",
        "model.fit(data_scaled)"
      ],
      "metadata": {
        "id": "EfhYZAq_Ueg8"
      },
      "execution_count": null,
      "outputs": []
    },
    {
      "cell_type": "code",
      "source": [
        "# Plotting resulting clusters\n",
        "data_scaled['HR_labels']=model.labels_\n",
        "\n",
        "plt.figure(figsize=(10,10))\n",
        "plt.scatter(data_scaled['Balance'],data_scaled['clusters'],c=data_scaled['HR_labels'],cmap=matplotlib.colors.ListedColormap(colors),s=15)\n",
        "plt.title('Hierarchical Clustering',fontsize=20)\n",
        "plt.xlabel('Feature 1',fontsize=14)\n",
        "plt.ylabel('Feature 2',fontsize=14)\n",
        "plt.show()"
      ],
      "metadata": {
        "id": "9-CdZct-UvQf"
      },
      "execution_count": null,
      "outputs": []
    },
    {
      "cell_type": "code",
      "source": [
        "# 3.DBSCAM CLUSTERING"
      ],
      "metadata": {
        "id": "s80bBcCrVBWQ"
      },
      "execution_count": null,
      "outputs": []
    },
    {
      "cell_type": "code",
      "source": [
        "from sklearn.cluster import DBSCAN\n",
        "dbscan=DBSCAN()\n",
        "dbscan.fit(data_scaled)"
      ],
      "metadata": {
        "id": "MweHpo4-VE1n"
      },
      "execution_count": null,
      "outputs": []
    },
    {
      "cell_type": "code",
      "source": [
        "# Plotting resulting clusters\n",
        "data_scaled['DBSCAN_labels']=dbscan.labels_ \n",
        "\n",
        "plt.figure(figsize=(10,10))\n",
        "plt.scatter(data_scaled['Balance'],data_scaled['clusters'],c=data_scaled['DBSCAN_labels'],cmap=matplotlib.colors.ListedColormap(colors),s=15)\n",
        "plt.title('DBSCAM CLUSTERING',fontsize=20)\n",
        "plt.xlabel('Feature 1',fontsize=14)\n",
        "plt.ylabel('Feature 2',fontsize=14)\n",
        "plt.show()"
      ],
      "metadata": {
        "id": "lBPTeUUWVPZ8"
      },
      "execution_count": null,
      "outputs": []
    }
  ]
}